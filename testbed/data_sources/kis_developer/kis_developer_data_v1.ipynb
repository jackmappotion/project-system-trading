{
 "cells": [
  {
   "cell_type": "code",
   "execution_count": 9,
   "metadata": {},
   "outputs": [
    {
     "data": {
      "text/plain": [
       "'\\nsymbols\\n'"
      ]
     },
     "execution_count": 9,
     "metadata": {},
     "output_type": "execute_result"
    }
   ],
   "source": [
    "\"\"\"\n",
    "symbols\n",
    "\"\"\""
   ]
  },
  {
   "cell_type": "code",
   "execution_count": 10,
   "metadata": {},
   "outputs": [
    {
     "name": "stdout",
     "output_type": "stream",
     "text": [
      "Hello KIS-Developer\n"
     ]
    }
   ],
   "source": [
    "print(\"Hello KIS-Developer\")"
   ]
  },
  {
   "cell_type": "code",
   "execution_count": 11,
   "metadata": {},
   "outputs": [],
   "source": [
    "import pandas as pd\n",
    "from mojito import KoreaInvestment\n",
    "\n",
    "from private import KI_PRIVATE"
   ]
  },
  {
   "cell_type": "code",
   "execution_count": 12,
   "metadata": {},
   "outputs": [],
   "source": [
    "def get_ki_broker():\n",
    "    ki_broker = KoreaInvestment(\n",
    "        api_key=KI_PRIVATE.get_app_key(),\n",
    "        api_secret=KI_PRIVATE.get_app_secret(),\n",
    "        acc_no=KI_PRIVATE.get_acc_number(),\n",
    "    )\n",
    "    return ki_broker"
   ]
  },
  {
   "cell_type": "code",
   "execution_count": 13,
   "metadata": {},
   "outputs": [],
   "source": [
    "ki_broker = get_ki_broker()"
   ]
  },
  {
   "cell_type": "code",
   "execution_count": 14,
   "metadata": {},
   "outputs": [],
   "source": [
    "symbols_df = ki_broker.fetch_symbols()"
   ]
  },
  {
   "cell_type": "code",
   "execution_count": 15,
   "metadata": {},
   "outputs": [
    {
     "data": {
      "text/html": [
       "<div>\n",
       "<style scoped>\n",
       "    .dataframe tbody tr th:only-of-type {\n",
       "        vertical-align: middle;\n",
       "    }\n",
       "\n",
       "    .dataframe tbody tr th {\n",
       "        vertical-align: top;\n",
       "    }\n",
       "\n",
       "    .dataframe thead th {\n",
       "        text-align: right;\n",
       "    }\n",
       "</style>\n",
       "<table border=\"1\" class=\"dataframe\">\n",
       "  <thead>\n",
       "    <tr style=\"text-align: right;\">\n",
       "      <th></th>\n",
       "      <th>단축코드</th>\n",
       "      <th>한글명</th>\n",
       "      <th>그룹코드</th>\n",
       "      <th>시장</th>\n",
       "    </tr>\n",
       "  </thead>\n",
       "  <tbody>\n",
       "    <tr>\n",
       "      <th>0</th>\n",
       "      <td>F70100001</td>\n",
       "      <td>한투글로벌신성장2호(A)</td>\n",
       "      <td>BC</td>\n",
       "      <td>코스피</td>\n",
       "    </tr>\n",
       "    <tr>\n",
       "      <th>1</th>\n",
       "      <td>F70100002</td>\n",
       "      <td>한투글로벌신성장1호(A)</td>\n",
       "      <td>BC</td>\n",
       "      <td>코스피</td>\n",
       "    </tr>\n",
       "    <tr>\n",
       "      <th>2</th>\n",
       "      <td>F70100003</td>\n",
       "      <td>한투글로벌신성장1호(A-e)</td>\n",
       "      <td>BC</td>\n",
       "      <td>코스피</td>\n",
       "    </tr>\n",
       "    <tr>\n",
       "      <th>3</th>\n",
       "      <td>F70100004</td>\n",
       "      <td>한투글로벌신성장2호(A-e)</td>\n",
       "      <td>BC</td>\n",
       "      <td>코스피</td>\n",
       "    </tr>\n",
       "    <tr>\n",
       "      <th>4</th>\n",
       "      <td>F70101B95</td>\n",
       "      <td>밀라노부동산</td>\n",
       "      <td>BC</td>\n",
       "      <td>코스피</td>\n",
       "    </tr>\n",
       "    <tr>\n",
       "      <th>...</th>\n",
       "      <td>...</td>\n",
       "      <td>...</td>\n",
       "      <td>...</td>\n",
       "      <td>...</td>\n",
       "    </tr>\n",
       "    <tr>\n",
       "      <th>1684</th>\n",
       "      <td>900280</td>\n",
       "      <td>골든센츄리</td>\n",
       "      <td>FS</td>\n",
       "      <td>코스닥</td>\n",
       "    </tr>\n",
       "    <tr>\n",
       "      <th>1685</th>\n",
       "      <td>900120</td>\n",
       "      <td>씨케이에이치</td>\n",
       "      <td>FS</td>\n",
       "      <td>코스닥</td>\n",
       "    </tr>\n",
       "    <tr>\n",
       "      <th>1686</th>\n",
       "      <td>900250</td>\n",
       "      <td>크리스탈신소재</td>\n",
       "      <td>FS</td>\n",
       "      <td>코스닥</td>\n",
       "    </tr>\n",
       "    <tr>\n",
       "      <th>1687</th>\n",
       "      <td>900070</td>\n",
       "      <td>글로벌에스엠</td>\n",
       "      <td>FS</td>\n",
       "      <td>코스닥</td>\n",
       "    </tr>\n",
       "    <tr>\n",
       "      <th>1688</th>\n",
       "      <td>900100</td>\n",
       "      <td>애머릿지</td>\n",
       "      <td>FS</td>\n",
       "      <td>코스닥</td>\n",
       "    </tr>\n",
       "  </tbody>\n",
       "</table>\n",
       "<p>3923 rows × 4 columns</p>\n",
       "</div>"
      ],
      "text/plain": [
       "           단축코드              한글명 그룹코드   시장\n",
       "0     F70100001    한투글로벌신성장2호(A)   BC  코스피\n",
       "1     F70100002    한투글로벌신성장1호(A)   BC  코스피\n",
       "2     F70100003  한투글로벌신성장1호(A-e)   BC  코스피\n",
       "3     F70100004  한투글로벌신성장2호(A-e)   BC  코스피\n",
       "4     F70101B95           밀라노부동산   BC  코스피\n",
       "...         ...              ...  ...  ...\n",
       "1684     900280            골든센츄리   FS  코스닥\n",
       "1685     900120           씨케이에이치   FS  코스닥\n",
       "1686     900250          크리스탈신소재   FS  코스닥\n",
       "1687     900070           글로벌에스엠   FS  코스닥\n",
       "1688     900100             애머릿지   FS  코스닥\n",
       "\n",
       "[3923 rows x 4 columns]"
      ]
     },
     "execution_count": 15,
     "metadata": {},
     "output_type": "execute_result"
    }
   ],
   "source": [
    "symbols_df"
   ]
  }
 ],
 "metadata": {
  "kernelspec": {
   "display_name": "quant_trading",
   "language": "python",
   "name": "python3"
  },
  "language_info": {
   "codemirror_mode": {
    "name": "ipython",
    "version": 3
   },
   "file_extension": ".py",
   "mimetype": "text/x-python",
   "name": "python",
   "nbconvert_exporter": "python",
   "pygments_lexer": "ipython3",
   "version": "3.10.13"
  }
 },
 "nbformat": 4,
 "nbformat_minor": 2
}
