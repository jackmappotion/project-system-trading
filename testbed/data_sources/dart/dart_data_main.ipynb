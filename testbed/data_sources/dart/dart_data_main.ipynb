{
 "cells": [
  {
   "cell_type": "code",
   "execution_count": 2,
   "metadata": {},
   "outputs": [],
   "source": [
    "import pandas as pd\n",
    "import dart_fss as dart_broker\n",
    "from private import DART_PRIVATE"
   ]
  },
  {
   "cell_type": "code",
   "execution_count": 3,
   "metadata": {},
   "outputs": [],
   "source": [
    "def get_dart_broker():\n",
    "    dart_broker.set_api_key(DART_PRIVATE.get_api_key())\n",
    "    return dart_broker\n",
    "\n",
    "dart_broker = get_dart_broker()"
   ]
  },
  {
   "cell_type": "code",
   "execution_count": null,
   "metadata": {},
   "outputs": [],
   "source": [
    "class DART_LOADER:\n",
    "    def __init__(self, dart_broker) -> None:\n",
    "        self.dart_broker = dart_broker"
   ]
  },
  {
   "cell_type": "code",
   "execution_count": null,
   "metadata": {},
   "outputs": [],
   "source": [
    "class DART_LOADER:\n",
    "    def __init__(self, dart_broker) -> None:\n",
    "        self.dart_broker = dart_broker\n",
    "\n",
    "    def get_corp_info_df(self):\n",
    "        corp_list = self.dart_broker.get_corp_list()\n",
    "        corp_info_df = pd.DataFrame([corp.to_dict() for corp in corp_list._corps])\n",
    "        return corp_info_df\n",
    "\n",
    "    def get_public_corp_info_df(self):\n",
    "        copr_info_df = self.get_corp_info_df()\n",
    "        public_copr_info_df = copr_info_df[~(copr_info_df[\"stock_code\"].isna())]\n",
    "        return public_copr_info_df"
   ]
  },
  {
   "cell_type": "code",
   "execution_count": null,
   "metadata": {},
   "outputs": [],
   "source": [
    "dart_loader = DART_LOADER(dart_broker)\n",
    "public_corp_info_df = dart_loader.get_public_corp_info_df()\n",
    "public_corp_info_df"
   ]
  }
 ],
 "metadata": {
  "kernelspec": {
   "display_name": "quant_trading",
   "language": "python",
   "name": "python3"
  },
  "language_info": {
   "codemirror_mode": {
    "name": "ipython",
    "version": 3
   },
   "file_extension": ".py",
   "mimetype": "text/x-python",
   "name": "python",
   "nbconvert_exporter": "python",
   "pygments_lexer": "ipython3",
   "version": "3.10.13"
  }
 },
 "nbformat": 4,
 "nbformat_minor": 2
}
