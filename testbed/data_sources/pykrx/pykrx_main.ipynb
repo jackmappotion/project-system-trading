{
 "cells": [
  {
   "cell_type": "code",
   "execution_count": 1,
   "metadata": {},
   "outputs": [],
   "source": [
    "from pykrx import stock as pykrx_broker"
   ]
  },
  {
   "cell_type": "code",
   "execution_count": null,
   "metadata": {},
   "outputs": [],
   "source": [
    "class PYKRX_LOADER:\n",
    "    def __init__(self, pykrx_broker) -> None:\n",
    "        self.pykrx_broker = pykrx_broker\n",
    "\n",
    "    def get_stock_fundamental_df(self, StockCode, start, end, freq):\n",
    "        \"\"\"\n",
    "        freq = [\"d\",\"m\",\"y\"]\n",
    "        \"\"\"\n",
    "        stock_fundamental_df = self.pykrx_broker.get_market_fundamental(\n",
    "            fromdate=start, todate=end, ticker=StockCode, freq=freq\n",
    "        )\n",
    "        return stock_fundamental_df\n",
    "\n",
    "    def get_market_fundamental_df(self, date):\n",
    "        market_fundamental_df = self.pykrx_broker.get_index_fundamental_by_ticker(\n",
    "            date=date, market=\"ALL\", alternative=True\n",
    "        )\n",
    "        return market_fundamental_df"
   ]
  },
  {
   "cell_type": "code",
   "execution_count": null,
   "metadata": {},
   "outputs": [],
   "source": [
    "pykrx_loader = PYKRX_LOADER(pykrx_broker)"
   ]
  }
 ],
 "metadata": {
  "kernelspec": {
   "display_name": "quant_trading",
   "language": "python",
   "name": "python3"
  },
  "language_info": {
   "codemirror_mode": {
    "name": "ipython",
    "version": 3
   },
   "file_extension": ".py",
   "mimetype": "text/x-python",
   "name": "python",
   "nbconvert_exporter": "python",
   "pygments_lexer": "ipython3",
   "version": "3.10.13"
  }
 },
 "nbformat": 4,
 "nbformat_minor": 2
}
