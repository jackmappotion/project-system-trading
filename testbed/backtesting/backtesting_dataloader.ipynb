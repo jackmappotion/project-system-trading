{
 "cells": [
  {
   "cell_type": "code",
   "execution_count": 2,
   "metadata": {},
   "outputs": [],
   "source": [
    "import pandas as pd"
   ]
  },
  {
   "cell_type": "code",
   "execution_count": 8,
   "metadata": {},
   "outputs": [],
   "source": [
    "import FinanceDataReader as fdr_broker\n",
    "\n",
    "\n",
    "class FDR_LOADER:\n",
    "    def __init__(self, fdr_broker) -> None:\n",
    "        self.fdr_broker = fdr_broker\n",
    "\n",
    "    def get_krx_df(self):\n",
    "        krx_df = self.fdr_broker.StockListing(\"KRX\")\n",
    "        return krx_df\n",
    "\n",
    "    def _get_ohlcv_df(self, stockcode, start=None, end=None):\n",
    "        ohlcv_df = self.fdr_broker.DataReader(symbol=stockcode, start=start, end=end)\n",
    "        ohlcv_df = ohlcv_df.loc[:, [\"Open\", \"High\", \"Low\", \"Close\", \"Volume\"]]\n",
    "        ohlcv_df[\"StockCode\"] = stockcode\n",
    "        return ohlcv_df\n",
    "\n",
    "    def get_stockcode_ohlcv_df(self, stockcode, start=None, end=None):\n",
    "        ohlcv_df = self._get_ohlcv_df(symbol=stockcode, start=start, end=end)\n",
    "        return ohlcv_df\n",
    "\n",
    "    def get_stockcodes_ohlcv_df(self, stockcodes, start=None, end=None):\n",
    "        ohlcv_list = list()\n",
    "        for stockcode in stockcodes:\n",
    "            try:\n",
    "                _ohlcv_df = self._get_ohlcv_df(stockcode=stockcode, start=start, end=end)\n",
    "                ohlcv_list.append(_ohlcv_df)\n",
    "            except:\n",
    "                pass\n",
    "        ohlcv_df = pd.concat(ohlcv_list, axis=0)\n",
    "        return ohlcv_df"
   ]
  },
  {
   "cell_type": "code",
   "execution_count": 9,
   "metadata": {},
   "outputs": [],
   "source": [
    "fdr_loader = FDR_LOADER(fdr_broker)"
   ]
  },
  {
   "cell_type": "code",
   "execution_count": 5,
   "metadata": {},
   "outputs": [],
   "source": [
    "krx_df = fdr_loader.get_krx_df()\n",
    "stockcodes = sorted(set(krx_df[\"Code\"]))\n",
    "\n",
    "ohlcv_df = fdr_loader.get_stockcodes_ohlcv_df(stockcodes=stockcodes, start=\"20210101\", end=\"20231106\")\n",
    "ohlcv_df.to_csv(\"./data/raw_ohlcv_df.csv\")"
   ]
  }
 ],
 "metadata": {
  "kernelspec": {
   "display_name": "quant_trading",
   "language": "python",
   "name": "python3"
  },
  "language_info": {
   "codemirror_mode": {
    "name": "ipython",
    "version": 3
   },
   "file_extension": ".py",
   "mimetype": "text/x-python",
   "name": "python",
   "nbconvert_exporter": "python",
   "pygments_lexer": "ipython3",
   "version": "3.10.13"
  }
 },
 "nbformat": 4,
 "nbformat_minor": 2
}
