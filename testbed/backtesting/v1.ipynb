{
 "cells": [
  {
   "cell_type": "code",
   "execution_count": 16,
   "metadata": {},
   "outputs": [],
   "source": [
    "import datetime as dt\n",
    "import pandas as pd"
   ]
  },
  {
   "cell_type": "code",
   "execution_count": 17,
   "metadata": {},
   "outputs": [],
   "source": [
    "raw_ohlcv_df = pd.read_csv(\"./data/raw_ohlcv_df.csv\", index_col=0, low_memory=False)\n",
    "ohlcv_df = raw_ohlcv_df.copy()\n",
    "\n",
    "ohlcv_df.reset_index(inplace=True)\n",
    "ohlcv_df[\"Date\"] = pd.to_datetime(ohlcv_df[\"Date\"])"
   ]
  },
  {
   "cell_type": "code",
   "execution_count": 18,
   "metadata": {},
   "outputs": [],
   "source": [
    "class VOLUME_BASED_TRADER:\n",
    "    def __init__(self, CFG) -> None:\n",
    "        self.CFG = CFG"
   ]
  },
  {
   "cell_type": "code",
   "execution_count": 44,
   "metadata": {},
   "outputs": [],
   "source": [
    "start_date = dt.date(2021, 3, 3)\n",
    "end_date = dt.date(2022, 3, 3)\n",
    "init_cash = 100_000_000"
   ]
  },
  {
   "cell_type": "code",
   "execution_count": 26,
   "metadata": {},
   "outputs": [],
   "source": [
    "ohlcv_df.sort_values(\"Date\", inplace=True)"
   ]
  },
  {
   "cell_type": "code",
   "execution_count": 27,
   "metadata": {},
   "outputs": [],
   "source": [
    "ohlcv_df[\"Volume_diff\"] = ohlcv_df.sort_values(\"Date\").groupby(\"StockCode\")[\"Volume\"].diff()"
   ]
  },
  {
   "cell_type": "code",
   "execution_count": 30,
   "metadata": {},
   "outputs": [],
   "source": [
    "def signal_maker(arg):\n",
    "    if arg > 0:\n",
    "        return 1\n",
    "    elif arg <= 0:\n",
    "        return -1"
   ]
  },
  {
   "cell_type": "code",
   "execution_count": 31,
   "metadata": {},
   "outputs": [],
   "source": [
    "ohlcv_df[\"Signal\"] = ohlcv_df[\"Volume_diff\"].apply(lambda x: signal_maker(x))"
   ]
  }
 ],
 "metadata": {
  "kernelspec": {
   "display_name": "quant_trading",
   "language": "python",
   "name": "python3"
  },
  "language_info": {
   "codemirror_mode": {
    "name": "ipython",
    "version": 3
   },
   "file_extension": ".py",
   "mimetype": "text/x-python",
   "name": "python",
   "nbconvert_exporter": "python",
   "pygments_lexer": "ipython3",
   "version": "3.10.13"
  }
 },
 "nbformat": 4,
 "nbformat_minor": 2
}
