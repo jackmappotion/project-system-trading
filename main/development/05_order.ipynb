{
 "cells": [
  {
   "cell_type": "code",
   "execution_count": 6,
   "metadata": {},
   "outputs": [],
   "source": [
    "import pandas as pd"
   ]
  },
  {
   "cell_type": "code",
   "execution_count": 7,
   "metadata": {},
   "outputs": [],
   "source": [
    "\"\"\"\n",
    "Private\n",
    "\"\"\"\n",
    "class KI_PRIVATE:\n",
    "    @staticmethod\n",
    "    def get_app_key():\n",
    "        app_key = \"your_app_key\"\n",
    "        return app_key\n",
    "\n",
    "    @staticmethod\n",
    "    def get_app_secret():\n",
    "        app_secret = \"your_app_secret\"\n",
    "        return app_secret\n",
    "\n",
    "    @staticmethod\n",
    "    def get_acc_number():\n",
    "        acc_number = \"your_acc_number\"\n",
    "        return acc_number\n",
    "\n",
    "from private import KI_PRIVATE"
   ]
  },
  {
   "cell_type": "code",
   "execution_count": 8,
   "metadata": {},
   "outputs": [],
   "source": [
    "class DART_BROKER:\n",
    "    def __init__(self, dart_private) -> None:\n",
    "        self.dart_private = dart_private\n",
    "\n",
    "    def __call__(self):\n",
    "        import dart_fss as dart_broker\n",
    "\n",
    "        dart_broker.set_api_key(\n",
    "            api_key=self.dart_private.get_api_key(),\n",
    "        )\n",
    "        return dart_broker\n",
    "\n",
    "\n",
    "class KI_BROKER:\n",
    "    def __init__(self, ki_private) -> None:\n",
    "        self.ki_private = ki_private\n",
    "\n",
    "    def __call__(self):\n",
    "        from mojito import KoreaInvestment\n",
    "\n",
    "        ki_broker = KoreaInvestment(\n",
    "            api_key=self.ki_private.get_app_key(),\n",
    "            api_secret=self.ki_private.get_app_secret(),\n",
    "            acc_no=self.ki_private.get_acc_number(),\n",
    "        )\n",
    "        return ki_broker"
   ]
  },
  {
   "cell_type": "code",
   "execution_count": 9,
   "metadata": {},
   "outputs": [],
   "source": [
    "# ANALYSIS\n",
    "\n",
    "buying_df = pd.read_csv(\"./data/dynamic/buying_df.csv\", index_col=0)\n",
    "buying_df[\"StockCode\"] = buying_df[\"StockCode\"].apply(lambda x: str(x).zfill(6))"
   ]
  },
  {
   "cell_type": "code",
   "execution_count": 10,
   "metadata": {},
   "outputs": [],
   "source": [
    "ki_private = KI_PRIVATE()\n",
    "ki_broker = KI_BROKER(ki_private)()"
   ]
  },
  {
   "cell_type": "code",
   "execution_count": 65,
   "metadata": {},
   "outputs": [],
   "source": [
    "class ORDER_CONTROLLER:\n",
    "    def __init__(self, ki_broker) -> None:\n",
    "        self.ki_broker = ki_broker\n",
    "\n",
    "    def get_current_cash(self):\n",
    "        balance_resp = ki_broker.fetch_balance()\n",
    "        current_cash = balance_resp[\"output2\"][0][\"dnca_tot_amt\"]\n",
    "        return current_cash\n",
    "\n",
    "    def get_current_price(self, stockcode):\n",
    "        resp = ki_broker.fetch_price(stockcode)[\"output\"]\n",
    "        current_price = resp[\"stck_prpr\"]\n",
    "        return current_price\n",
    "\n",
    "    def get_price_dict(self, stockcodes):\n",
    "        price_dict = dict()\n",
    "        for stockcode in stockcodes:\n",
    "            price_dict[stockcode] = self.get_current_price(stockcode)\n",
    "        return price_dict\n",
    "\n",
    "    def get_formed_df(self, buying_df):\n",
    "        current_cash = self.get_current_cash()\n",
    "        stock_current_cash = int(current_cash) / len(buying_df)\n",
    "\n",
    "        stockcodes = sorted(set(buying_df[\"StockCode\"]))\n",
    "        price_dict = self.get_price_dict(stockcodes)\n",
    "\n",
    "        buying_df[\"CurrentPrice\"] = buying_df[\"StockCode\"].map(price_dict)\n",
    "\n",
    "        buying_df[\"Quantity\"] = stock_current_cash // buying_df[\"CurrentPrice\"].astype(int)\n",
    "        buying_df = buying_df[buying_df[\"Quantity\"] > 0]\n",
    "        buying_df.loc[:, [\"Quantity\"]] = buying_df[\"Quantity\"].apply(lambda x: str(int(x)))\n",
    "        formed_df = buying_df.loc[:, [\"StockCode\", \"Quantity\"]]\n",
    "        return formed_df\n",
    "\n",
    "    def request_order(self, buying_df):\n",
    "        formed_df = self.get_formed_df(buying_df)\n",
    "\n",
    "        resp_dict = dict()\n",
    "        for idx, row in formed_df.iterrows():\n",
    "            try:\n",
    "                ticker = row[\"StockCode\"]\n",
    "                quantity = row[\"Quantity\"]\n",
    "                resp = ki_broker.create_market_buy_order(symbol=ticker, quantity=quantity)\n",
    "                resp_dict[ticker] = resp\n",
    "            except:\n",
    "                resp_dict[ticker] = \"Failed\"\n",
    "        return resp_dict"
   ]
  },
  {
   "cell_type": "code",
   "execution_count": 63,
   "metadata": {},
   "outputs": [
    {
     "data": {
      "text/plain": [
       "{'003300': {'rt_cd': '0',\n",
       "  'msg_cd': 'APBK0013',\n",
       "  'msg1': '주문 전송 완료 되었습니다.',\n",
       "  'output': {'KRX_FWDG_ORD_ORGNO': '91255',\n",
       "   'ODNO': '0000030148',\n",
       "   'ORD_TMD': '091517'}},\n",
       " '075970': {'rt_cd': '0',\n",
       "  'msg_cd': 'APBK0013',\n",
       "  'msg1': '주문 전송 완료 되었습니다.',\n",
       "  'output': {'KRX_FWDG_ORD_ORGNO': '91255',\n",
       "   'ODNO': '0000030149',\n",
       "   'ORD_TMD': '091517'}}}"
      ]
     },
     "execution_count": 63,
     "metadata": {},
     "output_type": "execute_result"
    }
   ],
   "source": [
    "order_controller = ORDER_CONTROLLER(ki_broker)\n",
    "order_resq = order_controller.request_order(buying_df)\n",
    "order_resq"
   ]
  },
  {
   "cell_type": "code",
   "execution_count": null,
   "metadata": {},
   "outputs": [],
   "source": []
  }
 ],
 "metadata": {
  "kernelspec": {
   "display_name": "quant_trading",
   "language": "python",
   "name": "python3"
  },
  "language_info": {
   "codemirror_mode": {
    "name": "ipython",
    "version": 3
   },
   "file_extension": ".py",
   "mimetype": "text/x-python",
   "name": "python",
   "nbconvert_exporter": "python",
   "pygments_lexer": "ipython3",
   "version": "3.10.13"
  }
 },
 "nbformat": 4,
 "nbformat_minor": 2
}
