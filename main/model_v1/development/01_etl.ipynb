{
 "cells": [
  {
   "cell_type": "markdown",
   "metadata": {},
   "source": [
    "## Modules"
   ]
  },
  {
   "cell_type": "code",
   "execution_count": 16,
   "metadata": {},
   "outputs": [],
   "source": [
    "\"\"\"\n",
    "Private\n",
    "\"\"\"\n",
    "\n",
    "\n",
    "class KI_PRIVATE:\n",
    "    @staticmethod\n",
    "    def get_app_key():\n",
    "        app_key = \"your_app_key\"\n",
    "        return app_key\n",
    "\n",
    "    @staticmethod\n",
    "    def get_app_secret():\n",
    "        app_secret = \"your_app_secret\"\n",
    "        return app_secret\n",
    "\n",
    "    @staticmethod\n",
    "    def get_acc_number():\n",
    "        acc_number = \"your_acc_number\"\n",
    "        return acc_number\n",
    "\n",
    "\n",
    "class DART_PRIVATE:\n",
    "    @staticmethod\n",
    "    def get_api_key():\n",
    "        api_key = \"your_api_key\"\n",
    "        return api_key\n",
    "\n",
    "\n",
    "from private import KI_PRIVATE, DART_PRIVATE"
   ]
  },
  {
   "cell_type": "code",
   "execution_count": 17,
   "metadata": {},
   "outputs": [],
   "source": [
    "\"\"\"\n",
    "Broker\n",
    "\"\"\"\n",
    "\n",
    "\n",
    "class DART_BROKER:\n",
    "    def __init__(self, dart_private) -> None:\n",
    "        self.dart_private = dart_private\n",
    "\n",
    "    def __call__(self):\n",
    "        import dart_fss as dart_broker\n",
    "\n",
    "        dart_broker.set_api_key(\n",
    "            api_key=self.dart_private.get_api_key(),\n",
    "        )\n",
    "        return dart_broker\n",
    "\n",
    "\n",
    "class KI_BROKER:\n",
    "    def __init__(self, ki_private) -> None:\n",
    "        self.ki_private = ki_private\n",
    "\n",
    "    def __call__(self):\n",
    "        from mojito import KoreaInvestment\n",
    "\n",
    "        ki_broker = KoreaInvestment(\n",
    "            api_key=self.ki_private.get_app_key(),\n",
    "            api_secret=self.ki_private.get_app_secret(),\n",
    "            acc_no=self.ki_private.get_acc_number(),\n",
    "        )\n",
    "        return ki_broker"
   ]
  },
  {
   "cell_type": "code",
   "execution_count": 18,
   "metadata": {},
   "outputs": [],
   "source": [
    "import pandas as pd\n",
    "import datetime as dt\n",
    "from requests import request\n",
    "\n",
    "\n",
    "class KI_LOADER:\n",
    "    def __init__(self, ki_broker) -> None:\n",
    "        self.ki_broker = ki_broker\n",
    "\n",
    "    def load_stockcodes(self):\n",
    "        symbols_df = self.ki_broker.fetch_symbols()\n",
    "        stockcode_list = sorted(set(symbols_df[\"단축코드\"]))\n",
    "        return stockcode_list\n",
    "\n",
    "    def load_ohclv_df(self, stockcode, ticks):\n",
    "        tick_list = self._calculate_tick_list(ticks)\n",
    "        ohclv_df_list = list()\n",
    "        for tick in tick_list:\n",
    "            start_day, end_day = self._calculate_date(tick)\n",
    "            single_ohlcv_df = self._load_single_ohlcv_df(\n",
    "                self.ki_broker, stockcode, start_day, end_day\n",
    "            )\n",
    "            ohclv_df_list.append(single_ohlcv_df)\n",
    "        ohclv_df = pd.concat(ohclv_df_list)\n",
    "        ohclv_df[\"StockCode\"] = stockcode\n",
    "        return ohclv_df\n",
    "\n",
    "    def load_total_ohlcv_df(self, stockcodes, ticks):\n",
    "        total_ohclv_df_list = list()\n",
    "        for stockcode in stockcodes:\n",
    "            try:\n",
    "                ohclv_df = self.load_ohclv_df(stockcode, ticks)\n",
    "                total_ohclv_df_list.append(ohclv_df)\n",
    "            except:\n",
    "                pass\n",
    "        total_ohclv_df = pd.concat(total_ohclv_df_list)\n",
    "        return total_ohclv_df\n",
    "\n",
    "    def load_info_dict(self, stockcode):\n",
    "        info_dict = self._load_info_dict(self.ki_broker, stockcode)\n",
    "        return info_dict\n",
    "\n",
    "    def load_total_info_df(self, stockcodes):\n",
    "        total_info_dict_list = list()\n",
    "        for stockcode in stockcodes:\n",
    "            info_dict = self.load_info_dict(stockcode)\n",
    "            total_info_dict_list.append(info_dict)\n",
    "        total_info_df = pd.DataFrame(total_info_dict_list)\n",
    "        return total_info_df\n",
    "\n",
    "    @staticmethod\n",
    "    def _calculate_tick_list(ticks):\n",
    "        tick_list = [(i * 100, (i * 100) + 100) for i in range(ticks // 100)]\n",
    "        last_range = ((ticks // 100) * 100, ((ticks // 100) * 100 + ticks % 100))\n",
    "        tick_list.append(last_range)\n",
    "        return tick_list\n",
    "\n",
    "    @staticmethod\n",
    "    def _calculate_date(tick):\n",
    "        start_day = (dt.date.today() - dt.timedelta(days=tick[1])).strftime(\"%Y%m%d\")\n",
    "        end_day = (dt.date.today() - dt.timedelta(days=tick[0])).strftime(\"%Y%m%d\")\n",
    "        return (start_day, end_day)\n",
    "\n",
    "    @staticmethod\n",
    "    def _load_single_ohlcv_df(ki_broker, stockcode, start_day, end_day):\n",
    "        ohlcv_resp = ki_broker.fetch_ohlcv(\n",
    "            symbol=stockcode,\n",
    "            timeframe=\"D\",\n",
    "            adj_price=True,\n",
    "            start_day=start_day,\n",
    "            end_day=end_day,\n",
    "        )\n",
    "        single_ohlcv_df = pd.DataFrame(ohlcv_resp[\"output2\"])\n",
    "        return single_ohlcv_df\n",
    "\n",
    "    @staticmethod\n",
    "    def _load_info_dict(ki_broker, stockcode):\n",
    "        ohlcv_resp = ki_broker.fetch_ohlcv(symbol=stockcode)\n",
    "        info_dict = ohlcv_resp[\"output1\"]\n",
    "        return info_dict\n",
    "\n",
    "\n",
    "class DART_LOADER:\n",
    "    def __init__(self, dart_broker) -> None:\n",
    "        self.dart_broker = dart_broker\n",
    "\n",
    "    def load_total_fundamental_df(self, stockcodes):\n",
    "        corpcode_df = self._load_corpcode_df(self.dart_broker)\n",
    "        corpcodes = self._get_corpcodes(corpcode_df, stockcodes)\n",
    "        corpcode_zips = self._get_chunked_list(corpcodes, 99)\n",
    "\n",
    "        fundamental_df_list = list()\n",
    "        for corpcode_zip in corpcode_zips:\n",
    "            try:\n",
    "                _fundamental_df = self._load_fundamental_df(\n",
    "                    corpcode_zip, self.dart_broker.get_api_key()\n",
    "                )\n",
    "                fundamental_df_list.append(_fundamental_df)\n",
    "            except:\n",
    "                pass\n",
    "        fundamental_df = pd.concat(fundamental_df_list, axis=0)\n",
    "\n",
    "        return fundamental_df\n",
    "\n",
    "    @staticmethod\n",
    "    def _load_corpcode_df(dart_broker):\n",
    "        corpcode_dict = dart_broker.api.filings.get_corp_code()\n",
    "        corpcode_df = pd.DataFrame(corpcode_dict)\n",
    "        return corpcode_df\n",
    "\n",
    "    @staticmethod\n",
    "    def _get_corpcodes(corpcode_df, stockcodes):\n",
    "        corpcodes = sorted(\n",
    "            set(corpcode_df[corpcode_df[\"stock_code\"].isin(stockcodes)][\"corp_code\"])\n",
    "        )\n",
    "        return corpcodes\n",
    "\n",
    "    @staticmethod\n",
    "    def _get_chunked_list(_list, n):\n",
    "        chunked_list = [_list[i : i + n] for i in range(0, len(_list), n)]\n",
    "        return chunked_list\n",
    "\n",
    "    @staticmethod\n",
    "    def _load_fundamental_df(corp_code_zip, api_key, year=2023, reprt_code=11013):\n",
    "        url = f\"https://opendart.fss.or.kr/api/fnlttMultiAcnt.json?crtfc_key={api_key}&corp_code={','.join(corp_code_zip)}&bsns_year={year}&reprt_code={reprt_code}\"\n",
    "        result = request(\"get\", url)\n",
    "        fundamental_df = pd.DataFrame(result.json()[\"list\"])\n",
    "        return fundamental_df"
   ]
  },
  {
   "cell_type": "markdown",
   "metadata": {},
   "source": [
    "## Codes"
   ]
  },
  {
   "cell_type": "code",
   "execution_count": 19,
   "metadata": {},
   "outputs": [],
   "source": [
    "# Private\n",
    "ki_private = KI_PRIVATE()\n",
    "dart_private = DART_PRIVATE()"
   ]
  },
  {
   "cell_type": "code",
   "execution_count": 20,
   "metadata": {},
   "outputs": [],
   "source": [
    "# Brokers\n",
    "ki_broker = KI_BROKER(ki_private)()\n",
    "dart_broker = DART_BROKER(dart_private)()"
   ]
  },
  {
   "cell_type": "code",
   "execution_count": 21,
   "metadata": {},
   "outputs": [],
   "source": [
    "# Loaders\n",
    "ki_loader = KI_LOADER(ki_broker)\n",
    "dart_loader = DART_LOADER(dart_broker)"
   ]
  },
  {
   "cell_type": "code",
   "execution_count": 22,
   "metadata": {},
   "outputs": [],
   "source": [
    "# Independent load\n",
    "stockcodes = ki_loader.load_stockcodes()"
   ]
  },
  {
   "cell_type": "code",
   "execution_count": 23,
   "metadata": {},
   "outputs": [
    {
     "data": {
      "application/vnd.jupyter.widget-view+json": {
       "model_id": "f566e9f1cf354e70be46f52c5337edca",
       "version_major": 2,
       "version_minor": 0
      },
      "text/plain": [
       "Output()"
      ]
     },
     "metadata": {},
     "output_type": "display_data"
    }
   ],
   "source": [
    "# Dependent load\n",
    "total_fundamental_df = dart_loader.load_total_fundamental_df(stockcodes)\n",
    "total_info_df = ki_loader.load_total_info_df(stockcodes)\n",
    "total_ohlcv_df = ki_loader.load_total_ohlcv_df(stockcodes, 100)"
   ]
  },
  {
   "cell_type": "code",
   "execution_count": 24,
   "metadata": {},
   "outputs": [],
   "source": [
    "# Dynamic Data\n",
    "## Not Locally saved in production\n",
    "total_fundamental_df.to_csv(\"./data/dynamic/total_fundamental_df.csv\")\n",
    "total_info_df.to_csv(\"./data/dynamic/total_info_df.csv\")\n",
    "total_ohlcv_df.to_csv(\"./data/dynamic/total_ohlcv_df.csv\")"
   ]
  }
 ],
 "metadata": {
  "kernelspec": {
   "display_name": "quant_trading",
   "language": "python",
   "name": "python3"
  },
  "language_info": {
   "codemirror_mode": {
    "name": "ipython",
    "version": 3
   },
   "file_extension": ".py",
   "mimetype": "text/x-python",
   "name": "python",
   "nbconvert_exporter": "python",
   "pygments_lexer": "ipython3",
   "version": "3.10.13"
  }
 },
 "nbformat": 4,
 "nbformat_minor": 2
}
